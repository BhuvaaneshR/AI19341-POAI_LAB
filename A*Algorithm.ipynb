{
  "nbformat": 4,
  "nbformat_minor": 0,
  "metadata": {
    "colab": {
      "provenance": [],
      "authorship_tag": "ABX9TyPKo3gYjfiuhThMFQUAKrR/",
      "include_colab_link": true
    },
    "kernelspec": {
      "name": "python3",
      "display_name": "Python 3"
    },
    "language_info": {
      "name": "python"
    }
  },
  "cells": [
    {
      "cell_type": "markdown",
      "metadata": {
        "id": "view-in-github",
        "colab_type": "text"
      },
      "source": [
        "<a href=\"https://colab.research.google.com/github/BhuvaaneshR/AI19341-POAI_LAB/blob/main/A*Algorithm.ipynb\" target=\"_parent\"><img src=\"https://colab.research.google.com/assets/colab-badge.svg\" alt=\"Open In Colab\"/></a>"
      ]
    },
    {
      "cell_type": "code",
      "execution_count": 3,
      "metadata": {
        "colab": {
          "base_uri": "https://localhost:8080/"
        },
        "id": "Jn5AqHZZ7c7u",
        "outputId": "7d97e4cd-a759-4e9d-b113-8698f88b1e99"
      },
      "outputs": [
        {
          "output_type": "stream",
          "name": "stdout",
          "text": [
            "Path found: ['D', 'B', 'E', 'F']\n"
          ]
        }
      ],
      "source": [
        "import heapq\n",
        "\n",
        "class Node:\n",
        "    def __init__(self, name, parent=None, g=0, h=0):\n",
        "        self.name = name\n",
        "        self.parent = parent\n",
        "        self.g = g\n",
        "        self.h = h\n",
        "        self.f = g + h\n",
        "\n",
        "    def __lt__(self, other):\n",
        "        return self.f < other.f\n",
        "\n",
        "def a_star(graph, start, goal, h_func):\n",
        "    open_list = []\n",
        "    heapq.heappush(open_list, Node(start, None, 0, h_func(start, goal)))\n",
        "    closed_list = set()\n",
        "\n",
        "    while open_list:\n",
        "        current_node = heapq.heappop(open_list)\n",
        "\n",
        "        if current_node.name == goal:\n",
        "            path = []\n",
        "            while current_node:\n",
        "                path.append(current_node.name)\n",
        "                current_node = current_node.parent\n",
        "            return path[::-1]\n",
        "\n",
        "        closed_list.add(current_node.name)\n",
        "\n",
        "        for neighbor, cost in graph[current_node.name]:\n",
        "            if neighbor in closed_list:\n",
        "                continue\n",
        "\n",
        "            g_new = current_node.g + cost\n",
        "            h_new = h_func(neighbor, goal)\n",
        "            f_new = g_new + h_new\n",
        "\n",
        "            neighbor_node = Node(neighbor, current_node, g_new, h_new)\n",
        "            heapq.heappush(open_list, neighbor_node)\n",
        "\n",
        "    return None\n",
        "\n",
        "graph = {\n",
        "    'A': [('D', 1), ('C', 3)],\n",
        "    'B': [('A', 1), ('D', 1), ('E', 3)],\n",
        "    'C': [('A', 3), ('F', 2)],\n",
        "    'D': [('B', 1)],\n",
        "    'E': [('B', 3), ('F', 1)],\n",
        "    'F': [('C', 2), ('E', 1)]\n",
        "}\n",
        "\n",
        "def heuristic(node, goal):\n",
        "    return 0\n",
        "\n",
        "start_node = 'D'\n",
        "goal_node = 'F'\n",
        "path = a_star(graph, start_node, goal_node, heuristic)\n",
        "\n",
        "if path:\n",
        "    print(f\"Path found: {path}\")\n",
        "else:\n",
        "    print(\"No path found\")\n"
      ]
    }
  ]
}