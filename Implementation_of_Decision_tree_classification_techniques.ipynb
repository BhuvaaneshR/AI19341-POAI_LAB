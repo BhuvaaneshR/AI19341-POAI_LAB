{
  "nbformat": 4,
  "nbformat_minor": 0,
  "metadata": {
    "colab": {
      "provenance": [],
      "authorship_tag": "ABX9TyPMLqcqB6scNRfaviQGhHFn",
      "include_colab_link": true
    },
    "kernelspec": {
      "name": "python3",
      "display_name": "Python 3"
    },
    "language_info": {
      "name": "python"
    }
  },
  "cells": [
    {
      "cell_type": "markdown",
      "metadata": {
        "id": "view-in-github",
        "colab_type": "text"
      },
      "source": [
        "<a href=\"https://colab.research.google.com/github/BhuvaaneshR/AI19341-POAI_LAB/blob/main/Implementation_of_Decision_tree_classification_techniques.ipynb\" target=\"_parent\"><img src=\"https://colab.research.google.com/assets/colab-badge.svg\" alt=\"Open In Colab\"/></a>"
      ]
    },
    {
      "cell_type": "code",
      "execution_count": 1,
      "metadata": {
        "colab": {
          "base_uri": "https://localhost:8080/"
        },
        "id": "zOIcWBS3poXC",
        "outputId": "2b01d5b2-00f1-4d5a-d842-6a27486b8bd3"
      },
      "outputs": [
        {
          "output_type": "stream",
          "name": "stdout",
          "text": [
            "The predicted gender for the input [170, 63, 41] is: Male\n"
          ]
        }
      ],
      "source": [
        "from sklearn.tree import DecisionTreeClassifier\n",
        "\n",
        "X = [\n",
        "    [170, 65, 42],\n",
        "    [160, 55, 38],\n",
        "    [175, 70, 43],\n",
        "    [155, 50, 37],\n",
        "    [165, 60, 39],\n",
        "    [180, 80, 44],\n",
        "]\n",
        "Y = [1, 0, 1, 0, 0, 1]\n",
        "clf = DecisionTreeClassifier()\n",
        "clf.fit(X, Y)\n",
        "\n",
        "\n",
        "sample_data = [[170, 63, 41]]\n",
        "prediction = clf.predict(sample_data)\n",
        "\n",
        "\n",
        "gender = \"Male\" if prediction[0] == 1 else \"Female\"\n",
        "print(f\"The predicted gender for the input {sample_data[0]} is: {gender}\")\n"
      ]
    }
  ]
}