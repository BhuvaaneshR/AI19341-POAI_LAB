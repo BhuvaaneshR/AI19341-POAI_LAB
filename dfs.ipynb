{
  "nbformat": 4,
  "nbformat_minor": 0,
  "metadata": {
    "colab": {
      "provenance": [],
      "authorship_tag": "ABX9TyO26/hjyeqofpJ+UvzVvIbb",
      "include_colab_link": true
    },
    "kernelspec": {
      "name": "python3",
      "display_name": "Python 3"
    },
    "language_info": {
      "name": "python"
    }
  },
  "cells": [
    {
      "cell_type": "markdown",
      "metadata": {
        "id": "view-in-github",
        "colab_type": "text"
      },
      "source": [
        "<a href=\"https://colab.research.google.com/github/BhuvaaneshR/AI19341-POAI_LAB/blob/main/dfs.ipynb\" target=\"_parent\"><img src=\"https://colab.research.google.com/assets/colab-badge.svg\" alt=\"Open In Colab\"/></a>"
      ]
    },
    {
      "cell_type": "code",
      "execution_count": null,
      "metadata": {
        "colab": {
          "base_uri": "https://localhost:8080/"
        },
        "id": "3e02dmg_7x97",
        "outputId": "dbf3eece-a570-4bac-9c20-a0b069402f60"
      },
      "outputs": [
        {
          "output_type": "stream",
          "name": "stdout",
          "text": [
            "Enter the number of nodes: 4\n",
            "Enter node 1: a\n",
            "Enter neighbors of a (comma-separated): b,c\n",
            "Enter node 2: b\n",
            "Enter neighbors of b (comma-separated): d\n",
            "Enter node 3: c\n",
            "Enter neighbors of c (comma-separated): d\n",
            "Enter node 4: d\n",
            "Enter neighbors of d (comma-separated): a\n",
            "Graph: {'a': ['b', 'c'], 'b': ['d'], 'c': ['d'], 'd': ['a']}\n"
          ]
        }
      ],
      "source": [
        "def dfs(graph, start, visited=None):\n",
        "    if visited is None:\n",
        "        visited = set()\n",
        "    visited.add(start)\n",
        "    print(start, end=\" \")\n",
        "    for neighbour in graph.get(start, []):\n",
        "        if neighbour not in visited:\n",
        "            dfs(graph, neighbour, visited)\n",
        "\n",
        "\n",
        "num_nodes = int(input(\"Enter the number of nodes: \"))\n",
        "graph = {}\n",
        "for i in range(num_nodes):\n",
        "    node = input(\"Enter node \" + str(i+1) + \": \").strip()\n",
        "    neighbors = input(\"Enter neighbors of \" + node + \" (comma-separated): \").strip().split(',')\n",
        "    neighbors = [n.strip() for n in neighbors]\n",
        "    graph[node] = neighbors\n",
        "\n",
        "\n",
        "print(\"Graph:\", graph)\n",
        "\n",
        "start_node = input(\"Enter the starting node: \").strip()\n",
        "\n",
        "\n",
        "print(\"Starting node:\", start_node)\n",
        "\n",
        "dfs(graph, start_node)\n"
      ]
    }
  ]
}