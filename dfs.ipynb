{
  "nbformat": 4,
  "nbformat_minor": 0,
  "metadata": {
    "colab": {
      "provenance": [],
      "authorship_tag": "ABX9TyO26/hjyeqofpJ+UvzVvIbb",
      "include_colab_link": true
    },
    "kernelspec": {
      "name": "python3",
      "display_name": "Python 3"
    },
    "language_info": {
      "name": "python"
    }
  },
  "cells": [
    {
      "cell_type": "markdown",
      "metadata": {
        "id": "view-in-github",
        "colab_type": "text"
      },
      "source": [
        "<a href=\"https://colab.research.google.com/github/BhuvaaneshR/AI19341-POAI_LAB/blob/main/dfs.ipynb\" target=\"_parent\"><img src=\"https://colab.research.google.com/assets/colab-badge.svg\" alt=\"Open In Colab\"/></a>"
      ]
    },
    {
      "cell_type": "code",
      "execution_count": 1,
      "metadata": {
        "colab": {
          "base_uri": "https://localhost:8080/"
        },
        "id": "3e02dmg_7x97",
        "outputId": "a9dcb561-ff00-420d-9522-55fa13ee95ff"
      },
      "outputs": [
        {
          "output_type": "stream",
          "name": "stdout",
          "text": [
            "Enter the number of nodes: 5\n",
            "Enter node 1: A\n",
            "Enter neighbors of A (comma-separated): B,C\n",
            "Enter node 2: B\n",
            "Enter neighbors of B (comma-separated): D\n",
            "Enter node 3: C\n",
            "Enter neighbors of C (comma-separated): D,E\n",
            "Enter node 4: D\n",
            "Enter neighbors of D (comma-separated): A,C\n",
            "Enter node 5: E\n",
            "Enter neighbors of E (comma-separated): B,D\n",
            "Graph: {'A': ['B', 'C'], 'B': ['D'], 'C': ['D', 'E'], 'D': ['A', 'C'], 'E': ['B', 'D']}\n",
            "Enter the starting node: A\n",
            "Starting node: A\n",
            "A B D C E "
          ]
        }
      ],
      "source": [
        "def dfs(graph, start, visited=None):\n",
        "    if visited is None:\n",
        "        visited = set()\n",
        "    visited.add(start)\n",
        "    print(start, end=\" \")\n",
        "    for neighbour in graph.get(start, []):\n",
        "        if neighbour not in visited:\n",
        "            dfs(graph, neighbour, visited)\n",
        "\n",
        "\n",
        "num_nodes = int(input(\"Enter the number of nodes: \"))\n",
        "graph = {}\n",
        "for i in range(num_nodes):\n",
        "    node = input(\"Enter node \" + str(i+1) + \": \").strip()\n",
        "    neighbors = input(\"Enter neighbors of \" + node + \" (comma-separated): \").strip().split(',')\n",
        "    neighbors = [n.strip() for n in neighbors]\n",
        "    graph[node] = neighbors\n",
        "\n",
        "\n",
        "print(\"Graph:\", graph)\n",
        "\n",
        "start_node = input(\"Enter the starting node: \").strip()\n",
        "\n",
        "\n",
        "print(\"Starting node:\", start_node)\n",
        "\n",
        "dfs(graph, start_node)\n"
      ]
    }
  ]
}