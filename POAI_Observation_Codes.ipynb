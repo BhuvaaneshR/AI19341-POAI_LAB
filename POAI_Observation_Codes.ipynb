{
  "nbformat": 4,
  "nbformat_minor": 0,
  "metadata": {
    "colab": {
      "provenance": [],
      "authorship_tag": "ABX9TyOGaJJytmViCRbT/+T8bTVC",
      "include_colab_link": true
    },
    "kernelspec": {
      "name": "python3",
      "display_name": "Python 3"
    },
    "language_info": {
      "name": "python"
    }
  },
  "cells": [
    {
      "cell_type": "markdown",
      "metadata": {
        "id": "view-in-github",
        "colab_type": "text"
      },
      "source": [
        "<a href=\"https://colab.research.google.com/github/BhuvaaneshR/AI19341-POAI_LAB/blob/main/POAI_Observation_Codes.ipynb\" target=\"_parent\"><img src=\"https://colab.research.google.com/assets/colab-badge.svg\" alt=\"Open In Colab\"/></a>"
      ]
    },
    {
      "cell_type": "markdown",
      "source": [
        "EXP - 1 : N-Queens Problem"
      ],
      "metadata": {
        "id": "BgUIEREQK4qZ"
      }
    },
    {
      "cell_type": "code",
      "execution_count": 1,
      "metadata": {
        "colab": {
          "base_uri": "https://localhost:8080/"
        },
        "id": "cBbyT-msKyVo",
        "outputId": "572e0cf8-2aca-4926-a24b-0af5c1ccb65a"
      },
      "outputs": [
        {
          "output_type": "stream",
          "name": "stdout",
          "text": [
            "Enter the number of queens: 5\n",
            "Found solution [0, 3, 1, 4, 2] in 22 tries.\n",
            "Found solution [3, 0, 2, 4, 1] in 6 tries.\n",
            "Found solution [4, 1, 3, 0, 2] in 2 tries.\n",
            "Found solution [3, 1, 4, 2, 0] in 18 tries.\n",
            "Found solution [1, 3, 0, 2, 4] in 12 tries.\n",
            "[[0, 3, 1, 4, 2], [3, 0, 2, 4, 1], [4, 1, 3, 0, 2], [3, 1, 4, 2, 0], [1, 3, 0, 2, 4]]\n"
          ]
        }
      ],
      "source": [
        "def share_diagonal(x0, y0, x1, y1):\n",
        "    dx = abs(x0 - x1)\n",
        "    dy = abs(y0 - y1)\n",
        "    return dy == dx\n",
        "\n",
        "\n",
        "def col_clashes(bs, c):\n",
        "    for i in range(c):\n",
        "        if share_diagonal(i, bs[i], c, bs[c]):\n",
        "            return True\n",
        "    return False\n",
        "\n",
        "\n",
        "def has_clashes(the_board):\n",
        "    for col in range(1, len(the_board)):\n",
        "        if col_clashes(the_board, col):\n",
        "            return True\n",
        "    return False\n",
        "\n",
        "\n",
        "def main():\n",
        "    import random\n",
        "    n=int(input(\"Enter the number of queens: \"))\n",
        "    rng = random.Random()\n",
        "\n",
        "    bd = list(range(n))\n",
        "    num_found = 0\n",
        "    tries = 0\n",
        "    result = []\n",
        "\n",
        "    while num_found < 5:\n",
        "        rng.shuffle(bd)\n",
        "        tries += 1\n",
        "\n",
        "        if not has_clashes(bd) and bd not in result:\n",
        "            print(\"Found solution {0} in {1} tries.\".format(bd, tries))\n",
        "            tries = 0\n",
        "            num_found += 1\n",
        "            result.append(list(bd))\n",
        "\n",
        "    print(result)\n",
        "\n",
        "\n",
        "main()\n"
      ]
    },
    {
      "cell_type": "markdown",
      "source": [
        "EXP - 2 : Depth First Search (DFS)"
      ],
      "metadata": {
        "id": "mnIRcqp9LbRF"
      }
    },
    {
      "cell_type": "code",
      "source": [
        "def dfs(graph, start, visited=None):\n",
        "    if visited is None:\n",
        "        visited = set()\n",
        "    visited.add(start)\n",
        "    print(start, end=\" \")\n",
        "    for neighbour in graph.get(start, []):\n",
        "        if neighbour not in visited:\n",
        "            dfs(graph, neighbour, visited)\n",
        "\n",
        "\n",
        "num_nodes = int(input(\"Enter the number of nodes: \"))\n",
        "graph = {}\n",
        "for i in range(num_nodes):\n",
        "    node = input(\"Enter node \" + str(i+1) + \": \").strip()\n",
        "    neighbors = input(\"Enter neighbors of \" + node + \" (comma-separated): \").strip().split(',')\n",
        "    neighbors = [n.strip() for n in neighbors]\n",
        "    graph[node] = neighbors\n",
        "\n",
        "\n",
        "print(\"Graph:\", graph)\n",
        "\n",
        "start_node = input(\"Enter the starting node: \").strip()\n",
        "\n",
        "\n",
        "print(\"Starting node:\", start_node)\n",
        "\n",
        "dfs(graph, start_node)"
      ],
      "metadata": {
        "colab": {
          "base_uri": "https://localhost:8080/"
        },
        "id": "HaSwm3DpLpDq",
        "outputId": "f8883a8b-0c55-4b89-c36a-ebed5f7ea834"
      },
      "execution_count": 2,
      "outputs": [
        {
          "output_type": "stream",
          "name": "stdout",
          "text": [
            "Enter the number of nodes: 5\n",
            "Enter node 1: A\n",
            "Enter neighbors of A (comma-separated): C,E\n",
            "Enter node 2: B\n",
            "Enter neighbors of B (comma-separated): C,D\n",
            "Enter node 3: C\n",
            "Enter neighbors of C (comma-separated): A,B\n",
            "Enter node 4: D\n",
            "Enter neighbors of D (comma-separated): E\n",
            "Enter node 5: E\n",
            "Enter neighbors of E (comma-separated): A,D\n",
            "Graph: {'A': ['C', 'E'], 'B': ['C', 'D'], 'C': ['A', 'B'], 'D': ['E'], 'E': ['A', 'D']}\n",
            "Enter the starting node: A\n",
            "Starting node: A\n",
            "A C B D E "
          ]
        }
      ]
    },
    {
      "cell_type": "markdown",
      "source": [
        "EXP - 3 : Water Jug Problem"
      ],
      "metadata": {
        "id": "3FAzEOLEMZwp"
      }
    },
    {
      "cell_type": "code",
      "source": [
        "def fill_4_gallon(x, y, x_max, y_max):\n",
        "    return (x_max, y)\n",
        "\n",
        "def fill_3_gallon(x, y, x_max, y_max):\n",
        "    return (x, y_max)\n",
        "\n",
        "def empty_4_gallon(x, y, x_max, y_max):\n",
        "    return (0, y)\n",
        "\n",
        "def empty_3_gallon(x, y, x_max, y_max):\n",
        "    return (x, 0)\n",
        "\n",
        "def pour_4_to_3(x, y, x_max, y_max):\n",
        "    transfer = min(x, y_max - y)\n",
        "    return (x - transfer, y + transfer)\n",
        "\n",
        "def pour_3_to_4(x, y, x_max, y_max):\n",
        "    transfer = min(y, x_max - x)\n",
        "    return (x + transfer, y - transfer)\n",
        "\n",
        "def dfs_water_jug(x_max, y_max, goal_x, visited=None, start=(0, 0)):\n",
        "    if visited is None:\n",
        "        visited = set()\n",
        "    stack = [start]\n",
        "\n",
        "    while stack:\n",
        "        state = stack.pop()\n",
        "        x, y = state\n",
        "\n",
        "        if state in visited:\n",
        "            continue\n",
        "        visited.add(state)\n",
        "        print(f\"Visiting state: {state}\")\n",
        "\n",
        "        if x == goal_x:\n",
        "            print(f\"Goal reached: {state}\")\n",
        "            return state\n",
        "\n",
        "        next_states = [\n",
        "            fill_4_gallon(x, y, x_max, y_max),\n",
        "            fill_3_gallon(x, y, x_max, y_max),\n",
        "            empty_4_gallon(x, y, x_max, y_max),\n",
        "            empty_3_gallon(x, y, x_max, y_max),\n",
        "            pour_4_to_3(x, y, x_max, y_max),\n",
        "            pour_3_to_4(x, y, x_max, y_max)\n",
        "        ]\n",
        "\n",
        "        for new_state in next_states:\n",
        "            if new_state not in visited:\n",
        "                stack.append(new_state)\n",
        "\n",
        "    return None\n",
        "\n",
        "x_max = 4\n",
        "y_max = 3\n",
        "goal_x = 2\n",
        "\n",
        "dfs_water_jug(x_max, y_max, goal_x)"
      ],
      "metadata": {
        "colab": {
          "base_uri": "https://localhost:8080/"
        },
        "id": "EjDb7XDeMVSD",
        "outputId": "5daf4ae4-df18-449d-83ec-8f2cf1ec398e"
      },
      "execution_count": 3,
      "outputs": [
        {
          "output_type": "stream",
          "name": "stdout",
          "text": [
            "Visiting state: (0, 0)\n",
            "Visiting state: (0, 3)\n",
            "Visiting state: (3, 0)\n",
            "Visiting state: (3, 3)\n",
            "Visiting state: (4, 2)\n",
            "Visiting state: (4, 0)\n",
            "Visiting state: (1, 3)\n",
            "Visiting state: (1, 0)\n",
            "Visiting state: (0, 1)\n",
            "Visiting state: (4, 1)\n",
            "Visiting state: (2, 3)\n",
            "Goal reached: (2, 3)\n"
          ]
        },
        {
          "output_type": "execute_result",
          "data": {
            "text/plain": [
              "(2, 3)"
            ]
          },
          "metadata": {},
          "execution_count": 3
        }
      ]
    },
    {
      "cell_type": "markdown",
      "source": [
        "EXP - 4 : MinMax Algorithm"
      ],
      "metadata": {
        "id": "UIvf1Uz-Mt23"
      }
    },
    {
      "cell_type": "code",
      "source": [
        "import math\n",
        "\n",
        "def minimax(depth, node_index, is_maximizer, scores, height):\n",
        "    if depth == height:\n",
        "        return scores[node_index]\n",
        "\n",
        "    if is_maximizer:\n",
        "        return max(minimax(depth + 1, node_index * 2, False, scores, height),\n",
        "                   minimax(depth + 1, node_index * 2 + 1, False, scores, height))\n",
        "    else:\n",
        "        return min(minimax(depth + 1, node_index * 2, True, scores, height),\n",
        "                   minimax(depth + 1, node_index * 2 + 1, True, scores, height))\n",
        "\n",
        "def calculate_tree_height(num_leaves):\n",
        "    return math.ceil(math.log2(num_leaves))\n",
        "\n",
        "scores = [3, 5, 6, 9, 1, 2, 0, -1]\n",
        "tree_height = calculate_tree_height(len(scores))\n",
        "optimal_score = minimax(0, 0, True, scores, tree_height)\n",
        "print(f\"The optimal score is: {optimal_score}\")"
      ],
      "metadata": {
        "colab": {
          "base_uri": "https://localhost:8080/"
        },
        "id": "hNUtarbLMyem",
        "outputId": "3f8a995b-4c1d-42f6-b7d5-240375ab8533"
      },
      "execution_count": 4,
      "outputs": [
        {
          "output_type": "stream",
          "name": "stdout",
          "text": [
            "The optimal score is: 5\n"
          ]
        }
      ]
    },
    {
      "cell_type": "markdown",
      "source": [
        "EXP - 5 : A* Search Algorithm"
      ],
      "metadata": {
        "id": "zvYEaxjVM1a3"
      }
    },
    {
      "cell_type": "code",
      "source": [
        "import heapq\n",
        "\n",
        "class Node:\n",
        "    def __init__(self, name, parent=None, g=0, h=0):\n",
        "        self.name = name\n",
        "        self.parent = parent\n",
        "        self.g = g\n",
        "        self.h = h\n",
        "        self.f = g + h\n",
        "\n",
        "    def __lt__(self, other):\n",
        "        return self.f < other.f\n",
        "\n",
        "def a_star(graph, start, goal, h_func):\n",
        "    open_list = []\n",
        "    heapq.heappush(open_list, Node(start, None, 0, h_func(start, goal)))\n",
        "    closed_list = set()\n",
        "\n",
        "    while open_list:\n",
        "        current_node = heapq.heappop(open_list)\n",
        "\n",
        "        if current_node.name == goal:\n",
        "            path = []\n",
        "            while current_node:\n",
        "                path.append(current_node.name)\n",
        "                current_node = current_node.parent\n",
        "            return path[::-1]\n",
        "\n",
        "        closed_list.add(current_node.name)\n",
        "\n",
        "        for neighbor, cost in graph[current_node.name]:\n",
        "            if neighbor in closed_list:\n",
        "                continue\n",
        "\n",
        "            g_new = current_node.g + cost\n",
        "            h_new = h_func(neighbor, goal)\n",
        "            f_new = g_new + h_new\n",
        "\n",
        "            neighbor_node = Node(neighbor, current_node, g_new, h_new)\n",
        "            heapq.heappush(open_list, neighbor_node)\n",
        "\n",
        "    return None\n",
        "\n",
        "graph = {\n",
        "    'A': [('D', 1), ('C', 3)],\n",
        "    'B': [('A', 1), ('D', 1), ('E', 3)],\n",
        "    'C': [('A', 3), ('F', 2)],\n",
        "    'D': [('B', 1)],\n",
        "    'E': [('B', 3), ('F', 1)],\n",
        "    'F': [('C', 2), ('E', 1)]\n",
        "}\n",
        "\n",
        "def heuristic(node, goal):\n",
        "    return 0\n",
        "\n",
        "start_node = 'D'\n",
        "goal_node = 'F'\n",
        "path = a_star(graph, start_node, goal_node, heuristic)\n",
        "\n",
        "if path:\n",
        "    print(f\"Path found: {path}\")\n",
        "else:\n",
        "    print(\"No path found\")\n"
      ],
      "metadata": {
        "colab": {
          "base_uri": "https://localhost:8080/"
        },
        "id": "PLvw6ALfM98l",
        "outputId": "06343051-3817-4d4c-f8dc-4ff0d29495fa"
      },
      "execution_count": 5,
      "outputs": [
        {
          "output_type": "stream",
          "name": "stdout",
          "text": [
            "Path found: ['D', 'B', 'E', 'F']\n"
          ]
        }
      ]
    }
  ]
}