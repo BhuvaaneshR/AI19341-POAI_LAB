{
  "nbformat": 4,
  "nbformat_minor": 0,
  "metadata": {
    "colab": {
      "provenance": [],
      "authorship_tag": "ABX9TyPssC/WFcfOH59zJvhB4zsJ",
      "include_colab_link": true
    },
    "kernelspec": {
      "name": "python3",
      "display_name": "Python 3"
    },
    "language_info": {
      "name": "python"
    }
  },
  "cells": [
    {
      "cell_type": "markdown",
      "metadata": {
        "id": "view-in-github",
        "colab_type": "text"
      },
      "source": [
        "<a href=\"https://colab.research.google.com/github/BhuvaaneshR/AI19341-POAI_LAB/blob/main/nqueens.ipynb\" target=\"_parent\"><img src=\"https://colab.research.google.com/assets/colab-badge.svg\" alt=\"Open In Colab\"/></a>"
      ]
    },
    {
      "cell_type": "code",
      "execution_count": null,
      "metadata": {
        "colab": {
          "base_uri": "https://localhost:8080/"
        },
        "id": "zlqdM-pk3KTW",
        "outputId": "2194ad60-6d5c-4ac0-f7a3-777bb90c616a"
      },
      "outputs": [
        {
          "metadata": {
            "tags": null
          },
          "name": "stdout",
          "output_type": "stream",
          "text": [
            "Found solution [3, 0, 4, 1, 5, 2] in 20 tries.\n",
            "Found solution [4, 2, 0, 5, 3, 1] in 157 tries.\n",
            "Found solution [1, 3, 5, 0, 2, 4] in 498 tries.\n",
            "Found solution [2, 5, 1, 4, 0, 3] in 419 tries.\n"
          ]
        }
      ],
      "source": [
        "def share_diagonal(x0, y0, x1, y1):\n",
        "    dx = abs(x0 - x1)\n",
        "    dy = abs(y0 - y1)\n",
        "    return dy == dx\n",
        "\n",
        "\n",
        "def col_clashes(bs, c):\n",
        "    for i in range(c):\n",
        "        if share_diagonal(i, bs[i], c, bs[c]):\n",
        "            return True\n",
        "    return False\n",
        "\n",
        "\n",
        "def has_clashes(the_board):\n",
        "    for col in range(1, len(the_board)):\n",
        "        if col_clashes(the_board, col):\n",
        "            return True\n",
        "    return False\n",
        "\n",
        "\n",
        "def main():\n",
        "    import random\n",
        "    n=int(input(\"Enter the number of queens: \"))\n",
        "    rng = random.Random()\n",
        "\n",
        "    bd = list(range(n))\n",
        "    num_found = 0\n",
        "    tries = 0\n",
        "    result = []\n",
        "\n",
        "    while num_found < 5:\n",
        "        rng.shuffle(bd)\n",
        "        tries += 1\n",
        "\n",
        "        if not has_clashes(bd) and bd not in result:\n",
        "            print(\"Found solution {0} in {1} tries.\".format(bd, tries))\n",
        "            tries = 0\n",
        "            num_found += 1\n",
        "            result.append(list(bd))\n",
        "\n",
        "    print(result)\n",
        "\n",
        "\n",
        "main()\n"
      ]
    }
  ]
}