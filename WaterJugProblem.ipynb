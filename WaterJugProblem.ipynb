{
  "cells": [
    {
      "cell_type": "markdown",
      "metadata": {
        "id": "view-in-github",
        "colab_type": "text"
      },
      "source": [
        "<a href=\"https://colab.research.google.com/github/BhuvaaneshR/AI19341-POAI_LAB/blob/main/WaterJugProblem.ipynb\" target=\"_parent\"><img src=\"https://colab.research.google.com/assets/colab-badge.svg\" alt=\"Open In Colab\"/></a>"
      ]
    },
    {
      "cell_type": "code",
      "source": [
        "def fill_4_gallon(x, y, x_max, y_max):\n",
        "    return (x_max, y)\n",
        "\n",
        "def fill_3_gallon(x, y, x_max, y_max):\n",
        "    return (x, y_max)\n",
        "\n",
        "def empty_4_gallon(x, y, x_max, y_max):\n",
        "    return (0, y)\n",
        "\n",
        "def empty_3_gallon(x, y, x_max, y_max):\n",
        "    return (x, 0)\n",
        "\n",
        "def pour_4_to_3(x, y, x_max, y_max):\n",
        "    transfer = min(x, y_max - y)\n",
        "    return (x - transfer, y + transfer)\n",
        "\n",
        "def pour_3_to_4(x, y, x_max, y_max):\n",
        "    transfer = min(y, x_max - x)\n",
        "    return (x + transfer, y - transfer)\n",
        "\n",
        "def dfs_water_jug(x_max, y_max, goal_x, visited=None, start=(0, 0)):\n",
        "    if visited is None:\n",
        "        visited = set()\n",
        "    stack = [start]\n",
        "\n",
        "    while stack:\n",
        "        state = stack.pop()\n",
        "        x, y = state\n",
        "\n",
        "        if state in visited:\n",
        "            continue\n",
        "        visited.add(state)\n",
        "        print(f\"Visiting state: {state}\")\n",
        "\n",
        "        if x == goal_x:\n",
        "            print(f\"Goal reached: {state}\")\n",
        "            return state\n",
        "\n",
        "        next_states = [\n",
        "            fill_4_gallon(x, y, x_max, y_max),\n",
        "            fill_3_gallon(x, y, x_max, y_max),\n",
        "            empty_4_gallon(x, y, x_max, y_max),\n",
        "            empty_3_gallon(x, y, x_max, y_max),\n",
        "            pour_4_to_3(x, y, x_max, y_max),\n",
        "            pour_3_to_4(x, y, x_max, y_max)\n",
        "        ]\n",
        "\n",
        "        for new_state in next_states:\n",
        "            if new_state not in visited:\n",
        "                stack.append(new_state)\n",
        "\n",
        "    return None\n",
        "\n",
        "x_max = 4\n",
        "y_max = 3\n",
        "goal_x = 2\n",
        "\n",
        "dfs_water_jug(x_max, y_max, goal_x)\n"
      ],
      "metadata": {
        "colab": {
          "base_uri": "https://localhost:8080/"
        },
        "id": "x6xNLWbm1PXD",
        "outputId": "be437920-0d66-4840-8d47-6c1d90c22f52"
      },
      "execution_count": 4,
      "outputs": [
        {
          "output_type": "stream",
          "name": "stdout",
          "text": [
            "Visiting state: (0, 0)\n",
            "Visiting state: (0, 3)\n",
            "Visiting state: (3, 0)\n",
            "Visiting state: (3, 3)\n",
            "Visiting state: (4, 2)\n",
            "Visiting state: (4, 0)\n",
            "Visiting state: (1, 3)\n",
            "Visiting state: (1, 0)\n",
            "Visiting state: (0, 1)\n",
            "Visiting state: (4, 1)\n",
            "Visiting state: (2, 3)\n",
            "Goal reached: (2, 3)\n"
          ]
        },
        {
          "output_type": "execute_result",
          "data": {
            "text/plain": [
              "(2, 3)"
            ]
          },
          "metadata": {},
          "execution_count": 4
        }
      ]
    }
  ],
  "metadata": {
    "colab": {
      "name": "Welcome To Colab",
      "toc_visible": true,
      "provenance": [],
      "include_colab_link": true
    },
    "kernelspec": {
      "display_name": "Python 3",
      "name": "python3"
    }
  },
  "nbformat": 4,
  "nbformat_minor": 0
}