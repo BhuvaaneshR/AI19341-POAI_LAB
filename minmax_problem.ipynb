{
  "nbformat": 4,
  "nbformat_minor": 0,
  "metadata": {
    "colab": {
      "provenance": [],
      "authorship_tag": "ABX9TyMXUqyG0GE3jErOAbsnhQXa",
      "include_colab_link": true
    },
    "kernelspec": {
      "name": "python3",
      "display_name": "Python 3"
    },
    "language_info": {
      "name": "python"
    }
  },
  "cells": [
    {
      "cell_type": "markdown",
      "metadata": {
        "id": "view-in-github",
        "colab_type": "text"
      },
      "source": [
        "<a href=\"https://colab.research.google.com/github/BhuvaaneshR/AI19341-POAI_LAB/blob/main/minmax_problem.ipynb\" target=\"_parent\"><img src=\"https://colab.research.google.com/assets/colab-badge.svg\" alt=\"Open In Colab\"/></a>"
      ]
    },
    {
      "cell_type": "code",
      "execution_count": 2,
      "metadata": {
        "colab": {
          "base_uri": "https://localhost:8080/"
        },
        "id": "oKhxHG7aGEmt",
        "outputId": "6739f218-f181-4c2d-ea87-748460ff1938"
      },
      "outputs": [
        {
          "output_type": "stream",
          "name": "stdout",
          "text": [
            "The optimal score is: 5\n"
          ]
        }
      ],
      "source": [
        "import math\n",
        "\n",
        "def minimax(depth, node_index, is_maximizer, scores, height):\n",
        "    if depth == height:\n",
        "        return scores[node_index]\n",
        "\n",
        "    if is_maximizer:\n",
        "        return max(minimax(depth + 1, node_index * 2, False, scores, height),\n",
        "                   minimax(depth + 1, node_index * 2 + 1, False, scores, height))\n",
        "    else:\n",
        "        return min(minimax(depth + 1, node_index * 2, True, scores, height),\n",
        "                   minimax(depth + 1, node_index * 2 + 1, True, scores, height))\n",
        "\n",
        "def calculate_tree_height(num_leaves):\n",
        "    return math.ceil(math.log2(num_leaves))\n",
        "\n",
        "scores = [3, 5, 6, 9, 1, 2, 0, -1]\n",
        "tree_height = calculate_tree_height(len(scores))\n",
        "optimal_score = minimax(0, 0, True, scores, tree_height)\n",
        "print(f\"The optimal score is: {optimal_score}\")\n"
      ]
    }
  ]
}